{
 "cells": [
  {
   "cell_type": "markdown",
   "metadata": {},
   "source": [
    "\n",
    "MILESTONES 1\n",
    "\n",
    "Nama  : Allen\n",
    "\n",
    "Batch : FTDS_BSD-003\n",
    "\n",
    "Dataset: Customer Shopping Trends \n",
    "\n",
    "Link_Dasboard: https://public.tableau.com/app/profile/ganung.nalendra.prakasa/viz/h8dsft_Milestone1_Allen/Dashboard1?publish=yes\n"
   ]
  },
  {
   "cell_type": "markdown",
   "metadata": {},
   "source": [
    "## Identifikasi Masalah"
   ]
  },
  {
   "cell_type": "markdown",
   "metadata": {},
   "source": [
    "Sebagai Data Analyst saya akan melakukan analisis terhadap dataset yang berjudul Customer Shopping Trends. Hal ini sangat dibutuhkan dan penting untuk menyesuaikan produk, strategi pemasaran, dan pengalaman pelanggan secara keseluruhan. Data analisis yang saya buat bisa berguna bagi pebisnis dan pengusaha untuk membuat keputusan yang tepat, mengoptimalkan penawaran produk, dan meningkatkan kepuasan pelanggan"
   ]
  },
  {
   "cell_type": "markdown",
   "metadata": {},
   "source": [
    "## Objective"
   ]
  },
  {
   "cell_type": "markdown",
   "metadata": {},
   "source": [
    "Objective: Objective dari project milestones kali ini akan berfokus pada:\n",
    "1. Mengetahui jenis kategori dan item apa yang sering dibeli oleh customer berdasarkan kolom data yang sudah ditentukan kaitkan korelasinya dengan previous purchase dimana jenis kategori dan item apa yang dibeli berulangkali oleh customer yang bisa dijadikan bisnis strategi pagi para pebisnis\n",
    "\n",
    "2. Ingin melihat manakah yang lebih konsumtif male or female dari data (terkait frekuensi pembelian) dan apakah gender mempengaruhi trend shopping pada produk tertentu\n",
    "\n",
    "3. Bagaimana melihat pola pembelian trend customer shopping dari data luar negeri seperti apa berdasarkan perbedaan usia poinnya adalah usia berapakah masyarakat yang lebih melakukan shopping dengan menunjukkan deskriptif statistik dan kaitkan korelasinya dengan previous purchase\n",
    "\n",
    "4. Apakah subscription, promo code, dan freeshipping menjadi beberapa faktor bagi para customer untuk melakukan transaksi belanja serta carilah statistik inferensial antara kolom usia dan subscription apakah terdapat perbedaan besar antara keduanya\n",
    "\n",
    "5. Warna dan size apakah yang menjadi favorit pembelian bagi pola trend masyarakat luar negeri\n",
    "\n",
    "6. Melihat rating yang diberikan kepada setiap kategori produk oleh kolom 'Gander'\n",
    "\n"
   ]
  },
  {
   "cell_type": "code",
   "execution_count": 2,
   "metadata": {},
   "outputs": [],
   "source": [
    "#Import tool yang dapat membantu dalam analisis data kita\n",
    "import time\n",
    "import csv\n",
    "import pandas as pd\n",
    "import numpy as np\n",
    "from scipy import stats\n",
    "from scipy.stats import norm\n",
    "import matplotlib.pyplot as plt\n",
    "import seaborn as sns"
   ]
  },
  {
   "cell_type": "code",
   "execution_count": 3,
   "metadata": {},
   "outputs": [],
   "source": [
    "#Meload dataset bentuk file csv \n",
    "df= pd.read_csv('shopping_trends.csv')"
   ]
  },
  {
   "cell_type": "code",
   "execution_count": 4,
   "metadata": {},
   "outputs": [
    {
     "data": {
      "text/html": [
       "<div>\n",
       "<style scoped>\n",
       "    .dataframe tbody tr th:only-of-type {\n",
       "        vertical-align: middle;\n",
       "    }\n",
       "\n",
       "    .dataframe tbody tr th {\n",
       "        vertical-align: top;\n",
       "    }\n",
       "\n",
       "    .dataframe thead th {\n",
       "        text-align: right;\n",
       "    }\n",
       "</style>\n",
       "<table border=\"1\" class=\"dataframe\">\n",
       "  <thead>\n",
       "    <tr style=\"text-align: right;\">\n",
       "      <th></th>\n",
       "      <th>Customer ID</th>\n",
       "      <th>Age</th>\n",
       "      <th>Gender</th>\n",
       "      <th>Item Purchased</th>\n",
       "      <th>Category</th>\n",
       "      <th>Purchase Amount (USD)</th>\n",
       "      <th>Location</th>\n",
       "      <th>Size</th>\n",
       "      <th>Color</th>\n",
       "      <th>Season</th>\n",
       "      <th>Review Rating</th>\n",
       "      <th>Subscription Status</th>\n",
       "      <th>Payment Method</th>\n",
       "      <th>Shipping Type</th>\n",
       "      <th>Discount Applied</th>\n",
       "      <th>Promo Code Used</th>\n",
       "      <th>Previous Purchases</th>\n",
       "      <th>Preferred Payment Method</th>\n",
       "      <th>Frequency of Purchases</th>\n",
       "    </tr>\n",
       "  </thead>\n",
       "  <tbody>\n",
       "    <tr>\n",
       "      <th>0</th>\n",
       "      <td>1</td>\n",
       "      <td>55</td>\n",
       "      <td>Male</td>\n",
       "      <td>Blouse</td>\n",
       "      <td>Clothing</td>\n",
       "      <td>53</td>\n",
       "      <td>Kentucky</td>\n",
       "      <td>L</td>\n",
       "      <td>Gray</td>\n",
       "      <td>Winter</td>\n",
       "      <td>3.1</td>\n",
       "      <td>Yes</td>\n",
       "      <td>Credit Card</td>\n",
       "      <td>Express</td>\n",
       "      <td>Yes</td>\n",
       "      <td>Yes</td>\n",
       "      <td>14</td>\n",
       "      <td>Venmo</td>\n",
       "      <td>Fortnightly</td>\n",
       "    </tr>\n",
       "    <tr>\n",
       "      <th>1</th>\n",
       "      <td>2</td>\n",
       "      <td>19</td>\n",
       "      <td>Male</td>\n",
       "      <td>Sweater</td>\n",
       "      <td>Clothing</td>\n",
       "      <td>64</td>\n",
       "      <td>Maine</td>\n",
       "      <td>L</td>\n",
       "      <td>Maroon</td>\n",
       "      <td>Winter</td>\n",
       "      <td>3.1</td>\n",
       "      <td>Yes</td>\n",
       "      <td>Bank Transfer</td>\n",
       "      <td>Express</td>\n",
       "      <td>Yes</td>\n",
       "      <td>Yes</td>\n",
       "      <td>2</td>\n",
       "      <td>Cash</td>\n",
       "      <td>Fortnightly</td>\n",
       "    </tr>\n",
       "    <tr>\n",
       "      <th>2</th>\n",
       "      <td>3</td>\n",
       "      <td>50</td>\n",
       "      <td>Male</td>\n",
       "      <td>Jeans</td>\n",
       "      <td>Clothing</td>\n",
       "      <td>73</td>\n",
       "      <td>Massachusetts</td>\n",
       "      <td>S</td>\n",
       "      <td>Maroon</td>\n",
       "      <td>Spring</td>\n",
       "      <td>3.1</td>\n",
       "      <td>Yes</td>\n",
       "      <td>Cash</td>\n",
       "      <td>Free Shipping</td>\n",
       "      <td>Yes</td>\n",
       "      <td>Yes</td>\n",
       "      <td>23</td>\n",
       "      <td>Credit Card</td>\n",
       "      <td>Weekly</td>\n",
       "    </tr>\n",
       "    <tr>\n",
       "      <th>3</th>\n",
       "      <td>4</td>\n",
       "      <td>21</td>\n",
       "      <td>Male</td>\n",
       "      <td>Sandals</td>\n",
       "      <td>Footwear</td>\n",
       "      <td>90</td>\n",
       "      <td>Rhode Island</td>\n",
       "      <td>M</td>\n",
       "      <td>Maroon</td>\n",
       "      <td>Spring</td>\n",
       "      <td>3.5</td>\n",
       "      <td>Yes</td>\n",
       "      <td>PayPal</td>\n",
       "      <td>Next Day Air</td>\n",
       "      <td>Yes</td>\n",
       "      <td>Yes</td>\n",
       "      <td>49</td>\n",
       "      <td>PayPal</td>\n",
       "      <td>Weekly</td>\n",
       "    </tr>\n",
       "    <tr>\n",
       "      <th>4</th>\n",
       "      <td>5</td>\n",
       "      <td>45</td>\n",
       "      <td>Male</td>\n",
       "      <td>Blouse</td>\n",
       "      <td>Clothing</td>\n",
       "      <td>49</td>\n",
       "      <td>Oregon</td>\n",
       "      <td>M</td>\n",
       "      <td>Turquoise</td>\n",
       "      <td>Spring</td>\n",
       "      <td>2.7</td>\n",
       "      <td>Yes</td>\n",
       "      <td>Cash</td>\n",
       "      <td>Free Shipping</td>\n",
       "      <td>Yes</td>\n",
       "      <td>Yes</td>\n",
       "      <td>31</td>\n",
       "      <td>PayPal</td>\n",
       "      <td>Annually</td>\n",
       "    </tr>\n",
       "  </tbody>\n",
       "</table>\n",
       "</div>"
      ],
      "text/plain": [
       "   Customer ID  Age Gender Item Purchased  Category  Purchase Amount (USD)  \\\n",
       "0            1   55   Male         Blouse  Clothing                     53   \n",
       "1            2   19   Male        Sweater  Clothing                     64   \n",
       "2            3   50   Male          Jeans  Clothing                     73   \n",
       "3            4   21   Male        Sandals  Footwear                     90   \n",
       "4            5   45   Male         Blouse  Clothing                     49   \n",
       "\n",
       "        Location Size      Color  Season  Review Rating Subscription Status  \\\n",
       "0       Kentucky    L       Gray  Winter            3.1                 Yes   \n",
       "1          Maine    L     Maroon  Winter            3.1                 Yes   \n",
       "2  Massachusetts    S     Maroon  Spring            3.1                 Yes   \n",
       "3   Rhode Island    M     Maroon  Spring            3.5                 Yes   \n",
       "4         Oregon    M  Turquoise  Spring            2.7                 Yes   \n",
       "\n",
       "  Payment Method  Shipping Type Discount Applied Promo Code Used  \\\n",
       "0    Credit Card        Express              Yes             Yes   \n",
       "1  Bank Transfer        Express              Yes             Yes   \n",
       "2           Cash  Free Shipping              Yes             Yes   \n",
       "3         PayPal   Next Day Air              Yes             Yes   \n",
       "4           Cash  Free Shipping              Yes             Yes   \n",
       "\n",
       "   Previous Purchases Preferred Payment Method Frequency of Purchases  \n",
       "0                  14                    Venmo            Fortnightly  \n",
       "1                   2                     Cash            Fortnightly  \n",
       "2                  23              Credit Card                 Weekly  \n",
       "3                  49                   PayPal                 Weekly  \n",
       "4                  31                   PayPal               Annually  "
      ]
     },
     "execution_count": 4,
     "metadata": {},
     "output_type": "execute_result"
    }
   ],
   "source": [
    "#Menampilkan 5 data teratas\n",
    "df.head()"
   ]
  },
  {
   "cell_type": "code",
   "execution_count": 5,
   "metadata": {},
   "outputs": [
    {
     "data": {
      "text/plain": [
       "(3900, 19)"
      ]
     },
     "execution_count": 5,
     "metadata": {},
     "output_type": "execute_result"
    }
   ],
   "source": [
    "#Melakukan eksplorasi berapa baris dan kolom yang kita punya\n",
    "df.shape"
   ]
  },
  {
   "cell_type": "code",
   "execution_count": 6,
   "metadata": {},
   "outputs": [
    {
     "data": {
      "text/plain": [
       "Customer ID                 3900\n",
       "Age                           53\n",
       "Gender                         2\n",
       "Item Purchased                25\n",
       "Category                       4\n",
       "Purchase Amount (USD)         81\n",
       "Location                      50\n",
       "Size                           4\n",
       "Color                         25\n",
       "Season                         4\n",
       "Review Rating                 26\n",
       "Subscription Status            2\n",
       "Payment Method                 6\n",
       "Shipping Type                  6\n",
       "Discount Applied               2\n",
       "Promo Code Used                2\n",
       "Previous Purchases            50\n",
       "Preferred Payment Method       6\n",
       "Frequency of Purchases         7\n",
       "dtype: int64"
      ]
     },
     "execution_count": 6,
     "metadata": {},
     "output_type": "execute_result"
    }
   ],
   "source": [
    "#Menampilkan nilai unik pada setiap kolom data\n",
    "df.nunique()"
   ]
  },
  {
   "cell_type": "code",
   "execution_count": 7,
   "metadata": {},
   "outputs": [
    {
     "name": "stdout",
     "output_type": "stream",
     "text": [
      "<class 'pandas.core.frame.DataFrame'>\n",
      "RangeIndex: 3900 entries, 0 to 3899\n",
      "Data columns (total 19 columns):\n",
      " #   Column                    Non-Null Count  Dtype  \n",
      "---  ------                    --------------  -----  \n",
      " 0   Customer ID               3900 non-null   int64  \n",
      " 1   Age                       3900 non-null   int64  \n",
      " 2   Gender                    3900 non-null   object \n",
      " 3   Item Purchased            3900 non-null   object \n",
      " 4   Category                  3900 non-null   object \n",
      " 5   Purchase Amount (USD)     3900 non-null   int64  \n",
      " 6   Location                  3900 non-null   object \n",
      " 7   Size                      3900 non-null   object \n",
      " 8   Color                     3900 non-null   object \n",
      " 9   Season                    3900 non-null   object \n",
      " 10  Review Rating             3900 non-null   float64\n",
      " 11  Subscription Status       3900 non-null   object \n",
      " 12  Payment Method            3900 non-null   object \n",
      " 13  Shipping Type             3900 non-null   object \n",
      " 14  Discount Applied          3900 non-null   object \n",
      " 15  Promo Code Used           3900 non-null   object \n",
      " 16  Previous Purchases        3900 non-null   int64  \n",
      " 17  Preferred Payment Method  3900 non-null   object \n",
      " 18  Frequency of Purchases    3900 non-null   object \n",
      "dtypes: float64(1), int64(4), object(14)\n",
      "memory usage: 579.0+ KB\n"
     ]
    }
   ],
   "source": [
    "# Menampilkan informasi tipe data dan melihat apakah terdapat missing value pada data yang kita akan analisis\n",
    "df.info()"
   ]
  },
  {
   "cell_type": "code",
   "execution_count": 8,
   "metadata": {},
   "outputs": [
    {
     "data": {
      "text/plain": [
       "0"
      ]
     },
     "execution_count": 8,
     "metadata": {},
     "output_type": "execute_result"
    }
   ],
   "source": [
    "df.duplicated().sum()"
   ]
  },
  {
   "cell_type": "code",
   "execution_count": 9,
   "metadata": {},
   "outputs": [
    {
     "data": {
      "text/plain": [
       "Customer ID                 0\n",
       "Age                         0\n",
       "Gender                      0\n",
       "Item Purchased              0\n",
       "Category                    0\n",
       "Purchase Amount (USD)       0\n",
       "Location                    0\n",
       "Size                        0\n",
       "Color                       0\n",
       "Season                      0\n",
       "Review Rating               0\n",
       "Subscription Status         0\n",
       "Payment Method              0\n",
       "Shipping Type               0\n",
       "Discount Applied            0\n",
       "Promo Code Used             0\n",
       "Previous Purchases          0\n",
       "Preferred Payment Method    0\n",
       "Frequency of Purchases      0\n",
       "dtype: int64"
      ]
     },
     "execution_count": 9,
     "metadata": {},
     "output_type": "execute_result"
    }
   ],
   "source": [
    "#Melihat apakah ada data yang missing atau tidak\n",
    "df.isnull().sum()"
   ]
  },
  {
   "cell_type": "code",
   "execution_count": 10,
   "metadata": {},
   "outputs": [
    {
     "data": {
      "text/html": [
       "<div>\n",
       "<style scoped>\n",
       "    .dataframe tbody tr th:only-of-type {\n",
       "        vertical-align: middle;\n",
       "    }\n",
       "\n",
       "    .dataframe tbody tr th {\n",
       "        vertical-align: top;\n",
       "    }\n",
       "\n",
       "    .dataframe thead th {\n",
       "        text-align: right;\n",
       "    }\n",
       "</style>\n",
       "<table border=\"1\" class=\"dataframe\">\n",
       "  <thead>\n",
       "    <tr style=\"text-align: right;\">\n",
       "      <th></th>\n",
       "      <th>Customer ID</th>\n",
       "      <th>Age</th>\n",
       "      <th>Purchase Amount (USD)</th>\n",
       "      <th>Review Rating</th>\n",
       "      <th>Previous Purchases</th>\n",
       "    </tr>\n",
       "  </thead>\n",
       "  <tbody>\n",
       "    <tr>\n",
       "      <th>count</th>\n",
       "      <td>3900.000000</td>\n",
       "      <td>3900.000000</td>\n",
       "      <td>3900.000000</td>\n",
       "      <td>3900.000000</td>\n",
       "      <td>3900.000000</td>\n",
       "    </tr>\n",
       "    <tr>\n",
       "      <th>mean</th>\n",
       "      <td>1950.500000</td>\n",
       "      <td>44.068462</td>\n",
       "      <td>59.764359</td>\n",
       "      <td>3.749949</td>\n",
       "      <td>25.351538</td>\n",
       "    </tr>\n",
       "    <tr>\n",
       "      <th>std</th>\n",
       "      <td>1125.977353</td>\n",
       "      <td>15.207589</td>\n",
       "      <td>23.685392</td>\n",
       "      <td>0.716223</td>\n",
       "      <td>14.447125</td>\n",
       "    </tr>\n",
       "    <tr>\n",
       "      <th>min</th>\n",
       "      <td>1.000000</td>\n",
       "      <td>18.000000</td>\n",
       "      <td>20.000000</td>\n",
       "      <td>2.500000</td>\n",
       "      <td>1.000000</td>\n",
       "    </tr>\n",
       "    <tr>\n",
       "      <th>25%</th>\n",
       "      <td>975.750000</td>\n",
       "      <td>31.000000</td>\n",
       "      <td>39.000000</td>\n",
       "      <td>3.100000</td>\n",
       "      <td>13.000000</td>\n",
       "    </tr>\n",
       "    <tr>\n",
       "      <th>50%</th>\n",
       "      <td>1950.500000</td>\n",
       "      <td>44.000000</td>\n",
       "      <td>60.000000</td>\n",
       "      <td>3.700000</td>\n",
       "      <td>25.000000</td>\n",
       "    </tr>\n",
       "    <tr>\n",
       "      <th>75%</th>\n",
       "      <td>2925.250000</td>\n",
       "      <td>57.000000</td>\n",
       "      <td>81.000000</td>\n",
       "      <td>4.400000</td>\n",
       "      <td>38.000000</td>\n",
       "    </tr>\n",
       "    <tr>\n",
       "      <th>max</th>\n",
       "      <td>3900.000000</td>\n",
       "      <td>70.000000</td>\n",
       "      <td>100.000000</td>\n",
       "      <td>5.000000</td>\n",
       "      <td>50.000000</td>\n",
       "    </tr>\n",
       "  </tbody>\n",
       "</table>\n",
       "</div>"
      ],
      "text/plain": [
       "       Customer ID          Age  Purchase Amount (USD)  Review Rating  \\\n",
       "count  3900.000000  3900.000000            3900.000000    3900.000000   \n",
       "mean   1950.500000    44.068462              59.764359       3.749949   \n",
       "std    1125.977353    15.207589              23.685392       0.716223   \n",
       "min       1.000000    18.000000              20.000000       2.500000   \n",
       "25%     975.750000    31.000000              39.000000       3.100000   \n",
       "50%    1950.500000    44.000000              60.000000       3.700000   \n",
       "75%    2925.250000    57.000000              81.000000       4.400000   \n",
       "max    3900.000000    70.000000             100.000000       5.000000   \n",
       "\n",
       "       Previous Purchases  \n",
       "count         3900.000000  \n",
       "mean            25.351538  \n",
       "std             14.447125  \n",
       "min              1.000000  \n",
       "25%             13.000000  \n",
       "50%             25.000000  \n",
       "75%             38.000000  \n",
       "max             50.000000  "
      ]
     },
     "execution_count": 10,
     "metadata": {},
     "output_type": "execute_result"
    }
   ],
   "source": [
    "#Melihat rangkuman data meliputi penghitungan (Count,Mean,Standar Deviasi, dan juga data MIN dan MAX)\n",
    "df.describe()"
   ]
  },
  {
   "cell_type": "markdown",
   "metadata": {},
   "source": [
    "# Data Cleaning"
   ]
  },
  {
   "cell_type": "code",
   "execution_count": 11,
   "metadata": {},
   "outputs": [
    {
     "data": {
      "text/plain": [
       "Index(['Customer ID', 'Age', 'Gender', 'Item Purchased', 'Category',\n",
       "       'Purchase Amount (USD)', 'Location', 'Size', 'Color', 'Season',\n",
       "       'Review Rating', 'Subscription Status', 'Payment Method',\n",
       "       'Shipping Type', 'Discount Applied', 'Promo Code Used',\n",
       "       'Previous Purchases', 'Preferred Payment Method',\n",
       "       'Frequency of Purchases'],\n",
       "      dtype='object')"
      ]
     },
     "execution_count": 11,
     "metadata": {},
     "output_type": "execute_result"
    }
   ],
   "source": [
    "# Penjabaran kolom apa saja yang kita punya\n",
    "df.columns"
   ]
  },
  {
   "cell_type": "code",
   "execution_count": 12,
   "metadata": {},
   "outputs": [
    {
     "data": {
      "text/html": [
       "<div>\n",
       "<style scoped>\n",
       "    .dataframe tbody tr th:only-of-type {\n",
       "        vertical-align: middle;\n",
       "    }\n",
       "\n",
       "    .dataframe tbody tr th {\n",
       "        vertical-align: top;\n",
       "    }\n",
       "\n",
       "    .dataframe thead th {\n",
       "        text-align: right;\n",
       "    }\n",
       "</style>\n",
       "<table border=\"1\" class=\"dataframe\">\n",
       "  <thead>\n",
       "    <tr style=\"text-align: right;\">\n",
       "      <th></th>\n",
       "      <th>Customer_ID</th>\n",
       "      <th>Age</th>\n",
       "      <th>Gender</th>\n",
       "      <th>Item_Purchased</th>\n",
       "      <th>Category</th>\n",
       "      <th>Purchase_Amount_USD</th>\n",
       "      <th>Location</th>\n",
       "      <th>Size</th>\n",
       "      <th>Color</th>\n",
       "      <th>Season</th>\n",
       "      <th>Review_Rating</th>\n",
       "      <th>Subscription_Status</th>\n",
       "      <th>Payment_Method</th>\n",
       "      <th>Shipping_Type</th>\n",
       "      <th>Discount_Applied</th>\n",
       "      <th>Promo_Code_Used</th>\n",
       "      <th>Previous_Purchases</th>\n",
       "      <th>Preferred_Payment_Method</th>\n",
       "      <th>Frequency_of_Purchases</th>\n",
       "    </tr>\n",
       "  </thead>\n",
       "  <tbody>\n",
       "    <tr>\n",
       "      <th>0</th>\n",
       "      <td>1</td>\n",
       "      <td>55</td>\n",
       "      <td>Male</td>\n",
       "      <td>Blouse</td>\n",
       "      <td>Clothing</td>\n",
       "      <td>53</td>\n",
       "      <td>Kentucky</td>\n",
       "      <td>L</td>\n",
       "      <td>Gray</td>\n",
       "      <td>Winter</td>\n",
       "      <td>3.1</td>\n",
       "      <td>Yes</td>\n",
       "      <td>Credit Card</td>\n",
       "      <td>Express</td>\n",
       "      <td>Yes</td>\n",
       "      <td>Yes</td>\n",
       "      <td>14</td>\n",
       "      <td>Venmo</td>\n",
       "      <td>Fortnightly</td>\n",
       "    </tr>\n",
       "    <tr>\n",
       "      <th>1</th>\n",
       "      <td>2</td>\n",
       "      <td>19</td>\n",
       "      <td>Male</td>\n",
       "      <td>Sweater</td>\n",
       "      <td>Clothing</td>\n",
       "      <td>64</td>\n",
       "      <td>Maine</td>\n",
       "      <td>L</td>\n",
       "      <td>Maroon</td>\n",
       "      <td>Winter</td>\n",
       "      <td>3.1</td>\n",
       "      <td>Yes</td>\n",
       "      <td>Bank Transfer</td>\n",
       "      <td>Express</td>\n",
       "      <td>Yes</td>\n",
       "      <td>Yes</td>\n",
       "      <td>2</td>\n",
       "      <td>Cash</td>\n",
       "      <td>Fortnightly</td>\n",
       "    </tr>\n",
       "    <tr>\n",
       "      <th>2</th>\n",
       "      <td>3</td>\n",
       "      <td>50</td>\n",
       "      <td>Male</td>\n",
       "      <td>Jeans</td>\n",
       "      <td>Clothing</td>\n",
       "      <td>73</td>\n",
       "      <td>Massachusetts</td>\n",
       "      <td>S</td>\n",
       "      <td>Maroon</td>\n",
       "      <td>Spring</td>\n",
       "      <td>3.1</td>\n",
       "      <td>Yes</td>\n",
       "      <td>Cash</td>\n",
       "      <td>Free Shipping</td>\n",
       "      <td>Yes</td>\n",
       "      <td>Yes</td>\n",
       "      <td>23</td>\n",
       "      <td>Credit Card</td>\n",
       "      <td>Weekly</td>\n",
       "    </tr>\n",
       "    <tr>\n",
       "      <th>3</th>\n",
       "      <td>4</td>\n",
       "      <td>21</td>\n",
       "      <td>Male</td>\n",
       "      <td>Sandals</td>\n",
       "      <td>Footwear</td>\n",
       "      <td>90</td>\n",
       "      <td>Rhode Island</td>\n",
       "      <td>M</td>\n",
       "      <td>Maroon</td>\n",
       "      <td>Spring</td>\n",
       "      <td>3.5</td>\n",
       "      <td>Yes</td>\n",
       "      <td>PayPal</td>\n",
       "      <td>Next Day Air</td>\n",
       "      <td>Yes</td>\n",
       "      <td>Yes</td>\n",
       "      <td>49</td>\n",
       "      <td>PayPal</td>\n",
       "      <td>Weekly</td>\n",
       "    </tr>\n",
       "    <tr>\n",
       "      <th>4</th>\n",
       "      <td>5</td>\n",
       "      <td>45</td>\n",
       "      <td>Male</td>\n",
       "      <td>Blouse</td>\n",
       "      <td>Clothing</td>\n",
       "      <td>49</td>\n",
       "      <td>Oregon</td>\n",
       "      <td>M</td>\n",
       "      <td>Turquoise</td>\n",
       "      <td>Spring</td>\n",
       "      <td>2.7</td>\n",
       "      <td>Yes</td>\n",
       "      <td>Cash</td>\n",
       "      <td>Free Shipping</td>\n",
       "      <td>Yes</td>\n",
       "      <td>Yes</td>\n",
       "      <td>31</td>\n",
       "      <td>PayPal</td>\n",
       "      <td>Annually</td>\n",
       "    </tr>\n",
       "  </tbody>\n",
       "</table>\n",
       "</div>"
      ],
      "text/plain": [
       "   Customer_ID  Age Gender Item_Purchased  Category  Purchase_Amount_USD  \\\n",
       "0            1   55   Male         Blouse  Clothing                   53   \n",
       "1            2   19   Male        Sweater  Clothing                   64   \n",
       "2            3   50   Male          Jeans  Clothing                   73   \n",
       "3            4   21   Male        Sandals  Footwear                   90   \n",
       "4            5   45   Male         Blouse  Clothing                   49   \n",
       "\n",
       "        Location Size      Color  Season  Review_Rating Subscription_Status  \\\n",
       "0       Kentucky    L       Gray  Winter            3.1                 Yes   \n",
       "1          Maine    L     Maroon  Winter            3.1                 Yes   \n",
       "2  Massachusetts    S     Maroon  Spring            3.1                 Yes   \n",
       "3   Rhode Island    M     Maroon  Spring            3.5                 Yes   \n",
       "4         Oregon    M  Turquoise  Spring            2.7                 Yes   \n",
       "\n",
       "  Payment_Method  Shipping_Type Discount_Applied Promo_Code_Used  \\\n",
       "0    Credit Card        Express              Yes             Yes   \n",
       "1  Bank Transfer        Express              Yes             Yes   \n",
       "2           Cash  Free Shipping              Yes             Yes   \n",
       "3         PayPal   Next Day Air              Yes             Yes   \n",
       "4           Cash  Free Shipping              Yes             Yes   \n",
       "\n",
       "   Previous_Purchases Preferred_Payment_Method Frequency_of_Purchases  \n",
       "0                  14                    Venmo            Fortnightly  \n",
       "1                   2                     Cash            Fortnightly  \n",
       "2                  23              Credit Card                 Weekly  \n",
       "3                  49                   PayPal                 Weekly  \n",
       "4                  31                   PayPal               Annually  "
      ]
     },
     "execution_count": 12,
     "metadata": {},
     "output_type": "execute_result"
    }
   ],
   "source": [
    "# Mengganti nama kolom yang memiliki 'spasi' menjadi '_' (underscore)\n",
    "df.rename(columns={'Customer ID':'Customer_ID','Item Purchased':'Item_Purchased','Purchase Amount (USD)':'Purchase_Amount_USD','Review Rating':'Review_Rating','Subscription Status':'Subscription_Status','Payment Method':'Payment_Method','Shipping Type':'Shipping_Type','Discount Applied':'Discount_Applied','Promo Code Used':'Promo_Code_Used','Previous Purchases':'Previous_Purchases','Preferred Payment Method':'Preferred_Payment_Method','Frequency of Purchases':'Frequency_of_Purchases'}, inplace=True)\n",
    "df.head()"
   ]
  },
  {
   "cell_type": "code",
   "execution_count": 13,
   "metadata": {},
   "outputs": [
    {
     "name": "stdout",
     "output_type": "stream",
     "text": [
      "<class 'pandas.core.frame.DataFrame'>\n",
      "RangeIndex: 3900 entries, 0 to 3899\n",
      "Data columns (total 19 columns):\n",
      " #   Column                    Non-Null Count  Dtype  \n",
      "---  ------                    --------------  -----  \n",
      " 0   Customer_ID               3900 non-null   int64  \n",
      " 1   Age                       3900 non-null   int64  \n",
      " 2   Gender                    3900 non-null   object \n",
      " 3   Item_Purchased            3900 non-null   object \n",
      " 4   Category                  3900 non-null   object \n",
      " 5   Purchase_Amount_USD       3900 non-null   int64  \n",
      " 6   Location                  3900 non-null   object \n",
      " 7   Size                      3900 non-null   object \n",
      " 8   Color                     3900 non-null   object \n",
      " 9   Season                    3900 non-null   object \n",
      " 10  Review_Rating             3900 non-null   float64\n",
      " 11  Subscription_Status       3900 non-null   object \n",
      " 12  Payment_Method            3900 non-null   object \n",
      " 13  Shipping_Type             3900 non-null   object \n",
      " 14  Discount_Applied          3900 non-null   object \n",
      " 15  Promo_Code_Used           3900 non-null   object \n",
      " 16  Previous_Purchases        3900 non-null   int64  \n",
      " 17  Preferred_Payment_Method  3900 non-null   object \n",
      " 18  Frequency_of_Purchases    3900 non-null   object \n",
      "dtypes: float64(1), int64(4), object(14)\n",
      "memory usage: 579.0+ KB\n"
     ]
    }
   ],
   "source": [
    "#Untuk memudahkan melihat tipe data kaitannya dengan mengganti tipe data object kedalam tipe data string\n",
    "df.info()"
   ]
  },
  {
   "cell_type": "code",
   "execution_count": 14,
   "metadata": {},
   "outputs": [
    {
     "name": "stdout",
     "output_type": "stream",
     "text": [
      "Customer_ID                          int64\n",
      "Age                                  int64\n",
      "Gender                      string[python]\n",
      "Item_Purchased              string[python]\n",
      "Category                    string[python]\n",
      "Purchase_Amount_USD                  int64\n",
      "Location                    string[python]\n",
      "Size                        string[python]\n",
      "Color                       string[python]\n",
      "Season                      string[python]\n",
      "Review_Rating                      float64\n",
      "Subscription_Status         string[python]\n",
      "Payment_Method              string[python]\n",
      "Shipping_Type               string[python]\n",
      "Discount_Applied            string[python]\n",
      "Promo_Code_Used             string[python]\n",
      "Previous_Purchases                   int64\n",
      "Preferred_Payment_Method    string[python]\n",
      "Frequency_of_Purchases      string[python]\n",
      "dtype: object\n"
     ]
    }
   ],
   "source": [
    "#Mengganti semua kolom yang memiliki tipe data object ke tipe data string\n",
    "df['Gender'] = df['Gender'].astype('string')\n",
    "df['Item_Purchased'] = df['Item_Purchased'].astype('string')\n",
    "df['Category'] = df['Category'].astype('string')\n",
    "df['Location'] = df['Location'].astype('string')\n",
    "df['Size'] = df['Size'].astype('string')\n",
    "df['Color'] = df['Color'].astype('string')\n",
    "df['Season'] = df['Season'].astype('string')\n",
    "df['Subscription_Status'] = df['Subscription_Status'].astype('string')\n",
    "df['Payment_Method'] = df['Payment_Method'].astype('string')\n",
    "df['Shipping_Type'] = df['Shipping_Type'].astype('string')\n",
    "df['Discount_Applied'] = df['Discount_Applied'].astype('string')\n",
    "df['Promo_Code_Used'] = df['Promo_Code_Used'].astype('string')\n",
    "df['Preferred_Payment_Method'] = df['Preferred_Payment_Method'].astype('string')\n",
    "df['Frequency_of_Purchases'] = df['Frequency_of_Purchases'].astype('string')\n",
    "\n",
    "print(df.dtypes)"
   ]
  },
  {
   "cell_type": "code",
   "execution_count": 15,
   "metadata": {},
   "outputs": [
    {
     "name": "stdout",
     "output_type": "stream",
     "text": [
      "<class 'pandas.core.frame.DataFrame'>\n",
      "RangeIndex: 3900 entries, 0 to 3899\n",
      "Data columns (total 12 columns):\n",
      " #   Column               Non-Null Count  Dtype  \n",
      "---  ------               --------------  -----  \n",
      " 0   Customer_ID          3900 non-null   int64  \n",
      " 1   Age                  3900 non-null   int64  \n",
      " 2   Gender               3900 non-null   string \n",
      " 3   Item_Purchased       3900 non-null   string \n",
      " 4   Category             3900 non-null   string \n",
      " 5   Size                 3900 non-null   string \n",
      " 6   Color                3900 non-null   string \n",
      " 7   Review_Rating        3900 non-null   float64\n",
      " 8   Subscription_Status  3900 non-null   string \n",
      " 9   Shipping_Type        3900 non-null   string \n",
      " 10  Promo_Code_Used      3900 non-null   string \n",
      " 11  Previous_Purchases   3900 non-null   int64  \n",
      "dtypes: float64(1), int64(3), string(8)\n",
      "memory usage: 365.8 KB\n"
     ]
    }
   ],
   "source": [
    "# mengahapus atau mengedrop kolom yang tidak diperlukan pada tahapan analisis\n",
    "df.drop('Purchase_Amount_USD', axis=1, inplace=True)\n",
    "df.drop('Location', axis=1, inplace=True)\n",
    "df.drop('Season', axis=1, inplace=True)\n",
    "df.drop('Payment_Method', axis=1, inplace=True)\n",
    "df.drop('Discount_Applied', axis=1, inplace=True)\n",
    "df.drop('Preferred_Payment_Method', axis=1, inplace=True)\n",
    "df.drop('Frequency_of_Purchases', axis=1, inplace=True)\n",
    "\n",
    "df.info()\n"
   ]
  },
  {
   "cell_type": "code",
   "execution_count": 16,
   "metadata": {},
   "outputs": [
    {
     "data": {
      "text/html": [
       "<div>\n",
       "<style scoped>\n",
       "    .dataframe tbody tr th:only-of-type {\n",
       "        vertical-align: middle;\n",
       "    }\n",
       "\n",
       "    .dataframe tbody tr th {\n",
       "        vertical-align: top;\n",
       "    }\n",
       "\n",
       "    .dataframe thead th {\n",
       "        text-align: right;\n",
       "    }\n",
       "</style>\n",
       "<table border=\"1\" class=\"dataframe\">\n",
       "  <thead>\n",
       "    <tr style=\"text-align: right;\">\n",
       "      <th></th>\n",
       "      <th>Customer_ID</th>\n",
       "      <th>Age</th>\n",
       "      <th>Gender</th>\n",
       "      <th>Item_Purchased</th>\n",
       "      <th>Category</th>\n",
       "      <th>Size</th>\n",
       "      <th>Color</th>\n",
       "      <th>Review_Rating</th>\n",
       "      <th>Subscription_Status</th>\n",
       "      <th>Shipping_Type</th>\n",
       "      <th>Promo_Code_Used</th>\n",
       "      <th>Previous_Purchases</th>\n",
       "    </tr>\n",
       "  </thead>\n",
       "  <tbody>\n",
       "    <tr>\n",
       "      <th>0</th>\n",
       "      <td>1</td>\n",
       "      <td>55</td>\n",
       "      <td>Male</td>\n",
       "      <td>Blouse</td>\n",
       "      <td>Clothing</td>\n",
       "      <td>L</td>\n",
       "      <td>Gray</td>\n",
       "      <td>3.1</td>\n",
       "      <td>Yes</td>\n",
       "      <td>Express</td>\n",
       "      <td>Yes</td>\n",
       "      <td>14</td>\n",
       "    </tr>\n",
       "    <tr>\n",
       "      <th>1</th>\n",
       "      <td>2</td>\n",
       "      <td>19</td>\n",
       "      <td>Male</td>\n",
       "      <td>Sweater</td>\n",
       "      <td>Clothing</td>\n",
       "      <td>L</td>\n",
       "      <td>Maroon</td>\n",
       "      <td>3.1</td>\n",
       "      <td>Yes</td>\n",
       "      <td>Express</td>\n",
       "      <td>Yes</td>\n",
       "      <td>2</td>\n",
       "    </tr>\n",
       "    <tr>\n",
       "      <th>2</th>\n",
       "      <td>3</td>\n",
       "      <td>50</td>\n",
       "      <td>Male</td>\n",
       "      <td>Jeans</td>\n",
       "      <td>Clothing</td>\n",
       "      <td>S</td>\n",
       "      <td>Maroon</td>\n",
       "      <td>3.1</td>\n",
       "      <td>Yes</td>\n",
       "      <td>Free Shipping</td>\n",
       "      <td>Yes</td>\n",
       "      <td>23</td>\n",
       "    </tr>\n",
       "    <tr>\n",
       "      <th>3</th>\n",
       "      <td>4</td>\n",
       "      <td>21</td>\n",
       "      <td>Male</td>\n",
       "      <td>Sandals</td>\n",
       "      <td>Footwear</td>\n",
       "      <td>M</td>\n",
       "      <td>Maroon</td>\n",
       "      <td>3.5</td>\n",
       "      <td>Yes</td>\n",
       "      <td>Next Day Air</td>\n",
       "      <td>Yes</td>\n",
       "      <td>49</td>\n",
       "    </tr>\n",
       "    <tr>\n",
       "      <th>4</th>\n",
       "      <td>5</td>\n",
       "      <td>45</td>\n",
       "      <td>Male</td>\n",
       "      <td>Blouse</td>\n",
       "      <td>Clothing</td>\n",
       "      <td>M</td>\n",
       "      <td>Turquoise</td>\n",
       "      <td>2.7</td>\n",
       "      <td>Yes</td>\n",
       "      <td>Free Shipping</td>\n",
       "      <td>Yes</td>\n",
       "      <td>31</td>\n",
       "    </tr>\n",
       "  </tbody>\n",
       "</table>\n",
       "</div>"
      ],
      "text/plain": [
       "   Customer_ID  Age Gender Item_Purchased  Category Size      Color  \\\n",
       "0            1   55   Male         Blouse  Clothing    L       Gray   \n",
       "1            2   19   Male        Sweater  Clothing    L     Maroon   \n",
       "2            3   50   Male          Jeans  Clothing    S     Maroon   \n",
       "3            4   21   Male        Sandals  Footwear    M     Maroon   \n",
       "4            5   45   Male         Blouse  Clothing    M  Turquoise   \n",
       "\n",
       "   Review_Rating Subscription_Status  Shipping_Type Promo_Code_Used  \\\n",
       "0            3.1                 Yes        Express             Yes   \n",
       "1            3.1                 Yes        Express             Yes   \n",
       "2            3.1                 Yes  Free Shipping             Yes   \n",
       "3            3.5                 Yes   Next Day Air             Yes   \n",
       "4            2.7                 Yes  Free Shipping             Yes   \n",
       "\n",
       "   Previous_Purchases  \n",
       "0                  14  \n",
       "1                   2  \n",
       "2                  23  \n",
       "3                  49  \n",
       "4                  31  "
      ]
     },
     "execution_count": 16,
     "metadata": {},
     "output_type": "execute_result"
    }
   ],
   "source": [
    "#Untuk menampilkan 5 data teratas yang berisi hanya kolom-kolom yang akan membantu kita dalam menganalisis data sesuai objective yang telah ditentukan\n",
    "df.head()"
   ]
  },
  {
   "cell_type": "markdown",
   "metadata": {},
   "source": [
    "Proses Data Exploration dan Cleaning telah selesai dan pada akhirnya kita memiliki 3900 baris dan menyisakan 12 kolom saja yang akan membantu kita dalam analisis data sekarang mari kita masuk pada tahap analisis data nya.\n",
    "\n",
    "Setelah datanya sudah saya bersihkan maka saya akan mengexport data yang sudah bersih untuk kebutuhan dashboard"
   ]
  },
  {
   "cell_type": "code",
   "execution_count": 17,
   "metadata": {},
   "outputs": [
    {
     "name": "stdout",
     "output_type": "stream",
     "text": [
      "Data Saved\n"
     ]
    }
   ],
   "source": [
    "#Menyimpan Data Cleaning atau data yang sudah dibersihkan ke bentuk CSV\n",
    "df.to_csv('Data_Cleaning_Milestones1.csv', index=False)\n",
    "print('Data Saved')"
   ]
  },
  {
   "cell_type": "markdown",
   "metadata": {},
   "source": [
    "# Data Analysist"
   ]
  },
  {
   "cell_type": "markdown",
   "metadata": {},
   "source": [
    "### Category Item"
   ]
  },
  {
   "cell_type": "code",
   "execution_count": 18,
   "metadata": {},
   "outputs": [
    {
     "data": {
      "text/plain": [
       "Category\n",
       "Clothing       1737\n",
       "Accessories    1240\n",
       "Footwear        599\n",
       "Outerwear       324\n",
       "Name: count, dtype: Int64"
      ]
     },
     "execution_count": 18,
     "metadata": {},
     "output_type": "execute_result"
    }
   ],
   "source": [
    "#Untuk menghitung ada berapa banyak data \n",
    "df.Category.value_counts()"
   ]
  },
  {
   "cell_type": "code",
   "execution_count": 19,
   "metadata": {},
   "outputs": [
    {
     "data": {
      "text/plain": [
       "'Clothing'"
      ]
     },
     "execution_count": 19,
     "metadata": {},
     "output_type": "execute_result"
    }
   ],
   "source": [
    "#Untuk menampilkan modus atau data paling banyak muncul adalah clothing\n",
    "df.Category.mode().values[0]"
   ]
  },
  {
   "cell_type": "markdown",
   "metadata": {},
   "source": [
    "Dari kedua data diatas kita mendapatkan informasi bahwa dari ke empat kategori Clothing, Accessories, Footwear, dan Outerwear customer trend atau tingkat frekuensi belanja customer paling banyak ke arah pembelian Clothing atau pakaian, maka mari kita buat visualisasinya dengan bantuan SeaBorn seperti di bawah ini"
   ]
  },
  {
   "cell_type": "code",
   "execution_count": 20,
   "metadata": {},
   "outputs": [
    {
     "data": {
      "image/png": "[encoded data removed]",
      "text/plain": [
       "<Figure size 640x480 with 1 Axes>"
      ]
     },
     "metadata": {},
     "output_type": "display_data"
    }
   ],
   "source": [
    "# Menulis ada apasaja pada kolom kategori dan menuliskan value counts setiap kategori\n",
    "Category = {'Category': ['Clothing', 'Accessories', 'Footwear', 'Outerwear'],\n",
    "'Jumlah': [1737, 1240, 599, 324]}\n",
    "\n",
    "# Membuat bar plot menggunakan Seaborn dan mensetting warna,ukuran, dan menampilkan angka\n",
    "ax = sns.barplot(data=Category, x='Category', y='Jumlah', palette='Set2')\n",
    "for i in ax.patches:\n",
    "    ax.annotate(int(i.get_height()), (i.get_x() + 0.25, i.get_height() + 1))\n",
    "    ax.tick_params(axis = 'both', labelsize = 12)\n",
    "plt.xlabel('Kategori', weight = \"bold\", color = \"#1565C0\", fontsize = 13, labelpad = 10)\n",
    "plt.ylabel('Jumlah', weight = \"bold\", color = \"#1565C0\", fontsize = 13, labelpad = 10)\n",
    "plt.title('Jumlah Produk dalam Setiap Kategori', weight = \"bold\", color = \"#1565C0\", fontsize = 18)\n",
    "\n",
    "# Menambahkan judul pada plot\n",
    "plt.xlabel('Kategori')\n",
    "plt.ylabel('Jumlah')\n",
    "plt.title('Jumlah Penjualan dalam Kolom Kategori')\n",
    "\n",
    "# Menampilkan plot\n",
    "plt.show()"
   ]
  },
  {
   "cell_type": "markdown",
   "metadata": {},
   "source": [
    "Dari visualisasi data kita sudah dapat melihat jelas bahwa trend shopping customer masyarakat luar negeri sangat banyak atau positif ke arah Clothing atau pakaian. Untuk memberikan insight yang lebih detail mari kita jabarkan produk-produk apa saja yang di beli oleh para customer berdasarkan ke empat kategori di atas dengan menggunakan function dibawah ini untuk lebih menjelaskan tentang objective nomer 1"
   ]
  },
  {
   "cell_type": "code",
   "execution_count": 21,
   "metadata": {},
   "outputs": [
    {
     "data": {
      "text/plain": [
       "Item_Purchased\n",
       "Blouse        171\n",
       "Jewelry       171\n",
       "Pants         171\n",
       "Shirt         169\n",
       "Dress         166\n",
       "Sweater       164\n",
       "Jacket        163\n",
       "Belt          161\n",
       "Sunglasses    161\n",
       "Coat          161\n",
       "Sandals       160\n",
       "Socks         159\n",
       "Skirt         158\n",
       "Shorts        157\n",
       "Scarf         157\n",
       "Hat           154\n",
       "Handbag       153\n",
       "Hoodie        151\n",
       "Shoes         150\n",
       "T-shirt       147\n",
       "Sneakers      145\n",
       "Boots         144\n",
       "Backpack      143\n",
       "Gloves        140\n",
       "Jeans         124\n",
       "Name: count, dtype: Int64"
      ]
     },
     "execution_count": 21,
     "metadata": {},
     "output_type": "execute_result"
    }
   ],
   "source": [
    "# Untuk melihat nilai unik pada kolom item purchased\n",
    "df.Item_Purchased.value_counts()"
   ]
  },
  {
   "cell_type": "markdown",
   "metadata": {},
   "source": [
    "Dari data di atas kita sudah dapat melihat terdapat banyak produk yang dibeli oleh masyarakat dan produk dengan pembelian yang menempati posisi tinggi ada blouse,pants,dan shirt yang masuk pada kategori Clothing dan ada jawelry pada posisi kedua yang masuk pada kategori Accessories. Mari kita buat visualisasi dari value count kolom item purchased untuk memudahkan kita dalam membaca data perbandingan setiap detail item menggunakan function di bawah ini"
   ]
  },
  {
   "cell_type": "code",
   "execution_count": 22,
   "metadata": {},
   "outputs": [
    {
     "data": {
      "image/png": "[encoded data removed]",
      "text/plain": [
       "<Figure size 640x480 with 1 Axes>"
      ]
     },
     "metadata": {},
     "output_type": "display_data"
    }
   ],
   "source": [
    "# Menulis ada apasaja pada kolom kategori dan menuliskan value counts setiap kategori\n",
    "df[\"Item_Purchased\"].value_counts().sort_values(ascending = True).plot(kind = 'barh', color = sns.color_palette('Set2'))\n",
    "\n",
    "plt.xlabel('\\n Jumlah', weight = \"bold\", color = \"#1565C0\", fontsize = 13, labelpad = -5)\n",
    "plt.ylabel('Item', weight = \"bold\", color = \"#1565C0\", fontsize = 13, labelpad = 10)\n",
    "plt.title('Detail Item Purchased', weight = \"bold\", color = \"#1565C0\", fontsize = 18)\n",
    "\n",
    "# Menampilkan plot\n",
    "plt.xticks(rotation = 0, ha = 'center', fontsize = 12)\n",
    "plt.tight_layout()\n",
    "plt.show()"
   ]
  },
  {
   "cell_type": "markdown",
   "metadata": {},
   "source": [
    " pada data di atas kita dapat melihat Pola trend shopping masyarakat luar negeri berdasarkan data yang saya ambil mengarah positif pada trend Clothing dengan detail item 5 data ter-atas yang paling sering dibeli meliputi:\n",
    "- Blouse sebanyak 171\n",
    "- Jewelry sebanyak 171\n",
    "- Pants sebanyak 171\n",
    "- Shirt sebanyak 169\n",
    "- Dress sebanyak 166\n",
    "Dari 5 data teratas menunjukkan peringkat 1,3,4,dan 5 berasal dari kategori Clothing "
   ]
  },
  {
   "cell_type": "code",
   "execution_count": 26,
   "metadata": {},
   "outputs": [
    {
     "name": "stdout",
     "output_type": "stream",
     "text": [
      "Total Previous Purchases:\n",
      "Previous_Purchases  Item_Purchased\n",
      "1                   Sweater           7\n",
      "                    Jacket            7\n",
      "                    Backpack          6\n",
      "                    Coat              5\n",
      "                    Hat               5\n",
      "                                     ..\n",
      "50                  Belt              2\n",
      "                    Sandals           1\n",
      "                    Sneakers          1\n",
      "                    Skirt             1\n",
      "                    Boots             1\n",
      "Name: count, Length: 1197, dtype: int64\n"
     ]
    }
   ],
   "source": [
    "# Mellihat apakah ada pengulangan pembelian oleh customer\n",
    "total_previous_purchases = df.groupby('Previous_Purchases')['Item_Purchased'].value_counts()\n",
    "print(\"Total Previous Purchases:\")\n",
    "print(total_previous_purchases)"
   ]
  },
  {
   "cell_type": "markdown",
   "metadata": {},
   "source": [
    "Dari beberapa detail item yang dibeli masyarakat ada beberapa pengulangan pembelian yang dilakukan customer. Berikut 5 data ter-atas yang menunjukkan produk apa yang mengalami pengulangan pembelian oleh masyarakat,\n",
    "- Sweater sebanyak 7 kali\n",
    "- Jacket sebanyak 7 kali\n",
    "- Backpack sebanyak 6 kali\n",
    "- Coat sebanyak 5 kali\n",
    "- Hat sebanyak 5 kali"
   ]
  },
  {
   "cell_type": "markdown",
   "metadata": {},
   "source": [
    " Kesimpulan dari objective nomer 1 sebagai para pebisnis atau pengusaha melalui real data yang tersedia disarankan untuk mengekspansi usahanya ke arah industri Clothing atau konveksi dengan memperbanyak produk seperti 5 data teratas yang sering dibeli dan 5 data teratas yang mengalami pengulangan pembelian oleh masyarakat."
   ]
  },
  {
   "cell_type": "markdown",
   "metadata": {},
   "source": [
    "## Gender (Jenis Kelamin)"
   ]
  },
  {
   "cell_type": "code",
   "execution_count": null,
   "metadata": {},
   "outputs": [
    {
     "data": {
      "text/plain": [
       "Gender\n",
       "Male      2652\n",
       "Female    1248\n",
       "Name: count, dtype: Int64"
      ]
     },
     "execution_count": 24,
     "metadata": {},
     "output_type": "execute_result"
    }
   ],
   "source": [
    "#Untuk melihat ada berapa banyak pria dan wanita yang tersurvey pada data\n",
    "df.Gender.value_counts()"
   ]
  },
  {
   "cell_type": "markdown",
   "metadata": {},
   "source": [
    "Dari data di atas kita mendapatkan informasi bahwa pada data yang di analisis ternyata pria memiliki lebih banyak transaksi shopping daripada wanita dimana apabila kita berbicara generalisasi melibatkan tingkat konsumerisme shopping individu berdasarkan kolom Category yang berisikan Clothing,Accessories,Footwear,dan Outerwear kita akan menganggap dan berspekulasi bahwa pasti wanitalah yang akan memiliki transaksi shopping lebih banyak daripada pria. Hal ini lah yang kita harus perhatikan pentingnya sebuah perusahaan atau pebisnis memiliki data analyst dalam timnya karena berbicara real data pada lapangan akan meningkatkan presentasi keberhasilan suatu strategi usaha atau bisnis lebih besar daripada hanya berspekulasi. Untuk dapat melihat perbandingan secara jelas mari buat visualisasinya dengan function di bawah ini"
   ]
  },
  {
   "cell_type": "code",
   "execution_count": null,
   "metadata": {},
   "outputs": [
    {
     "data": {
      "image/png": "[encoded data removed]",
      "text/plain": [
       "<Figure size 640x480 with 1 Axes>"
      ]
     },
     "metadata": {},
     "output_type": "display_data"
    }
   ],
   "source": [
    "# Menulis ada apasaja pada kolom Gender yaitu male dan female\n",
    "Gender = {'Gender': ['Male','Female'],\n",
    "'Jumlah': [2652, 1248]}\n",
    "\n",
    "color_custom= ['Blue','Pink']\n",
    "# Membuat bar plot menggunakan Seaborn dan mensetting warna,ukuran, dan menampilkan angka\n",
    "ax = sns.barplot(data=Gender, x='Gender', y='Jumlah', palette= color_custom)\n",
    "for i in ax.patches:\n",
    "    ax.annotate(int(i.get_height()), (i.get_x() + 0.25, i.get_height() + 1))\n",
    "    ax.tick_params(axis = 'both', labelsize = 12)\n",
    "plt.xlabel('Gender', weight = \"bold\", color = \"#1565C0\", fontsize = 13, labelpad = 10)\n",
    "plt.ylabel('Jumlah', weight = \"bold\", color = \"#1565C0\", fontsize = 13, labelpad = 10)\n",
    "plt.title('', weight = \"bold\", color = \"#1565C0\", fontsize = 18)\n",
    "\n",
    "# Menambahkan judul pada plotTotal Transaksi by Gender\n",
    "plt.xlabel('Gender')\n",
    "plt.ylabel('Jumlah')\n",
    "plt.title('Total Transaksi by Gender')\n",
    "\n",
    "# Menampilkan plot\n",
    "plt.show()"
   ]
  },
  {
   "cell_type": "code",
   "execution_count": null,
   "metadata": {},
   "outputs": [
    {
     "data": {
      "image/png": "[encoded data removed]",
      "text/plain": [
       "<Figure size 600x600 with 1 Axes>"
      ]
     },
     "metadata": {},
     "output_type": "display_data"
    }
   ],
   "source": [
    "#Menampilkan Pie Chart untuk menampilkan percentage dari Gender\n",
    "fig,ax1 = plt.subplots(figsize=(6,6))\n",
    "\n",
    "df['Gender'].value_counts().plot(kind='pie', autopct='%.2f%%',ax=ax1)\n",
    "plt.show()"
   ]
  },
  {
   "cell_type": "markdown",
   "metadata": {},
   "source": [
    "Pada data yang di analisis pria memiliki transaksi atau shopping lebih banyak daripada wanita dengan perbandingan 2652 atau 68% dibanding 1248 atau sekitar 32% yang dimana mematahkkan spekulasi atau dogma masyarakat dimana wanita dianggap memiliki tingkat konsumtif yang tinggi daripada pria. Analisisnya akan semakin terlihat jelas apabila kita melihat produk apa yang paling banyak di beli baik pria maupun wanita seperti analisis dibawah ini"
   ]
  },
  {
   "cell_type": "code",
   "execution_count": null,
   "metadata": {},
   "outputs": [
    {
     "name": "stdout",
     "output_type": "stream",
     "text": [
      "Total Purchase Amount by Gender:\n",
      "Gender  Item_Purchased\n",
      "Female  Blouse             66\n",
      "        Sandals            59\n",
      "        Shirt              59\n",
      "        Handbag            58\n",
      "        Socks              58\n",
      "        Sunglasses         56\n",
      "        Belt               55\n",
      "        Jacket             54\n",
      "        Dress              52\n",
      "        Jewelry            52\n",
      "        Hat                52\n",
      "        Hoodie             51\n",
      "        Sweater            50\n",
      "        Boots              50\n",
      "        Skirt              49\n",
      "        Shoes              48\n",
      "        Shorts             48\n",
      "        Pants              48\n",
      "        Coat               47\n",
      "        T-shirt            46\n",
      "        Scarf              45\n",
      "        Sneakers           42\n",
      "        Gloves             37\n",
      "        Backpack           37\n",
      "        Jeans              29\n",
      "Male    Pants             123\n",
      "        Jewelry           119\n",
      "        Sweater           114\n",
      "        Coat              114\n",
      "        Dress             114\n",
      "        Scarf             112\n",
      "        Shirt             110\n",
      "        Jacket            109\n",
      "        Skirt             109\n",
      "        Shorts            109\n",
      "        Backpack          106\n",
      "        Belt              106\n",
      "        Sunglasses        105\n",
      "        Blouse            105\n",
      "        Sneakers          103\n",
      "        Gloves            103\n",
      "        Shoes             102\n",
      "        Hat               102\n",
      "        Sandals           101\n",
      "        Socks             101\n",
      "        T-shirt           101\n",
      "        Hoodie            100\n",
      "        Jeans              95\n",
      "        Handbag            95\n",
      "        Boots              94\n",
      "Name: count, dtype: int64\n"
     ]
    }
   ],
   "source": [
    "# Untuk mengetahui pembelian detail produk terbanyak yang dilakukan baik pria maupun wanita\n",
    "total_purchase_by_gender = df.groupby('Gender')['Item_Purchased'].value_counts()\n",
    "print(\"Total Purchase Amount by Gender:\")\n",
    "print(total_purchase_by_gender)"
   ]
  },
  {
   "cell_type": "markdown",
   "metadata": {},
   "source": [
    "Dari data di atas kita dapat menjawab objecti kedua dan mengambil kesimpulan bahwa dari kolom gender, Disini kita akan mengambil 5 barang ter-atas yang sering dibeli baik wanita maupun pria. \n",
    "1. Untuk wanita 5 item ter-atas menurut data yang sering dibeli meliputi:\n",
    "    - Blouse sebanyak 66 (Kategori Clothing)\n",
    "    - Sandals sebanyak 59 (Kategori Footwear)\n",
    "    - Shirt sebanyak 59 (Kategori Clothing)\n",
    "    - Handbag sebanyak 58 (Kategori Accessories)\n",
    "    - Socks sebanyak 56 (Kategori Footwear)\n",
    "\n",
    "2. Untuk pria 5 item ter-atas menurut data yang sering dibeli meliputi:\n",
    "    - Pants sebanyak 123 (Kategori Clothing)\n",
    "    - Jawelry sebanyak 119 (Kategori Accessories)\n",
    "    - Sweater sebanyak 114 (Kategori Clothing)\n",
    "    - Coat sebanyak 114 (Kategori Clothing)\n",
    "    - Dress sebanyak 144 (Kategori Cloting)\n",
    "\n",
    "3. Kesimpulan terakhir adalah pada data yang di analisis pria memiliki transaksi atau shopping lebih banyak daripada wanita dengan perbandingan 68% dibanding 32% yang dimana mematahkkan spekulasi atau dogma masyarakat dimana wanita dianggap memiliki tingkat konsumtif yang tinggi daripada pria. Penjelasannya adalah karena pria sebagai kepala keluarga dimana biasanya sumber pendapatan terbesar terletak pada kepala keluarga sehingga semua transaksi jual-beli akan melaluinya hipotesis ini semakin diperkuat dengan data di atas yang menunjukkan bahwa pembelian 'skirt' atau 'rok' atau 'dress' yang merupakan kebutuhan wanita malah menjadi salah satu pembelian terbanyak yang dilakukan oleh pria. Hal ini dikarenakan faktor yang telah disebutkan sebelumnya sebagai kepala keluarga yang memilik sumber pendapatan terbanyak dalam sebuah rumah memungkinkan sebagian besar transaksi belanja ada padanya dengan kata lain kita bisa menyebutnya seorang ayah yang sedang mencukupi kebutuhan dan keinginan anak dan juga istrinya\n",
    "\n",
    "4. Dalam pandangan bisnis ternyata perbedaan Gender tidak terlalu berpengaruh kepada trend shopping masyarakat pada detail produk tertentu dikarenakan faktor-faktor yang telah disebutkan pada point 3 dimana produk yang biasa digunakan wanita bisa saja juga dibeli oleh pria"
   ]
  },
  {
   "cell_type": "markdown",
   "metadata": {},
   "source": [
    "## Age (Usia)"
   ]
  },
  {
   "cell_type": "markdown",
   "metadata": {},
   "source": [
    "Pada tahapan ini kita menampilkan statistik deskriptif dari kolom Age dimana kita akan mencari Usia berapakah trend shopping pada masyarakat luar negeri paling banyak dilakukan, usia berapa yang paling muda dan tua yang melakukan transaksi belanja, dan berapakah median atau nilai tengah dari kolom umur. kita akan segera mengetahuinya dari function di bawah ini"
   ]
  },
  {
   "cell_type": "markdown",
   "metadata": {},
   "source": [
    "### Statistik Deskriptif"
   ]
  },
  {
   "cell_type": "code",
   "execution_count": null,
   "metadata": {},
   "outputs": [
    {
     "data": {
      "text/plain": [
       "Age\n",
       "69    88\n",
       "57    87\n",
       "41    86\n",
       "25    85\n",
       "49    84\n",
       "50    83\n",
       "54    83\n",
       "27    83\n",
       "62    83\n",
       "32    82\n",
       "19    81\n",
       "58    81\n",
       "42    80\n",
       "43    79\n",
       "28    79\n",
       "31    79\n",
       "37    77\n",
       "46    76\n",
       "29    76\n",
       "68    75\n",
       "59    75\n",
       "63    75\n",
       "56    74\n",
       "36    74\n",
       "55    73\n",
       "52    73\n",
       "64    73\n",
       "35    72\n",
       "51    72\n",
       "65    72\n",
       "40    72\n",
       "45    72\n",
       "47    71\n",
       "66    71\n",
       "30    71\n",
       "23    71\n",
       "38    70\n",
       "53    70\n",
       "18    69\n",
       "21    69\n",
       "26    69\n",
       "34    68\n",
       "48    68\n",
       "24    68\n",
       "39    68\n",
       "70    67\n",
       "22    66\n",
       "61    65\n",
       "60    65\n",
       "33    63\n",
       "20    62\n",
       "67    54\n",
       "44    51\n",
       "Name: count, dtype: int64"
      ]
     },
     "execution_count": 28,
     "metadata": {},
     "output_type": "execute_result"
    }
   ],
   "source": [
    "#Untuk menunjukkan nilai unik dari kolom usia\n",
    "df.Age.value_counts()"
   ]
  },
  {
   "cell_type": "code",
   "execution_count": null,
   "metadata": {},
   "outputs": [
    {
     "data": {
      "text/plain": [
       "18"
      ]
     },
     "execution_count": 29,
     "metadata": {},
     "output_type": "execute_result"
    }
   ],
   "source": [
    "#Untuk menghitung nilai minimum dari kolom Age\n",
    "df.Age.min()"
   ]
  },
  {
   "cell_type": "code",
   "execution_count": null,
   "metadata": {},
   "outputs": [
    {
     "data": {
      "text/plain": [
       "70"
      ]
     },
     "execution_count": 30,
     "metadata": {},
     "output_type": "execute_result"
    }
   ],
   "source": [
    "#Untuk menghitung nilai maximum dari kolom Age\n",
    "df.Age.max()"
   ]
  },
  {
   "cell_type": "code",
   "execution_count": null,
   "metadata": {},
   "outputs": [
    {
     "data": {
      "text/plain": [
       "44.0"
      ]
     },
     "execution_count": 31,
     "metadata": {},
     "output_type": "execute_result"
    }
   ],
   "source": [
    "#Untuk menghitung nilai median atau nilai tengah dari kolom Age\n",
    "df.Age.median()"
   ]
  },
  {
   "cell_type": "code",
   "execution_count": null,
   "metadata": {},
   "outputs": [
    {
     "data": {
      "text/plain": [
       "69"
      ]
     },
     "execution_count": 32,
     "metadata": {},
     "output_type": "execute_result"
    }
   ],
   "source": [
    "#Untuk menghitung nilai modus atau yang sering muncul dari kolom Age\n",
    "df.Age.mode().values[0]"
   ]
  },
  {
   "cell_type": "code",
   "execution_count": null,
   "metadata": {},
   "outputs": [
    {
     "data": {
      "text/plain": [
       "44.06846153846154"
      ]
     },
     "execution_count": 33,
     "metadata": {},
     "output_type": "execute_result"
    }
   ],
   "source": [
    "#Untuk menghitung nilai rata-rata dari kolom Age\n",
    "df.Age.mean()"
   ]
  },
  {
   "cell_type": "markdown",
   "metadata": {},
   "source": [
    "Dari data analisis di atas kita mendapatkan beberapa informasi yaitu:\n",
    "1. Kita mendapatkan fakta bahwa modus dari data yang di analisis menunjukkan bahwa usia yang paling banyak melakukan transaksi pembelian adalah pada umur 69 \n",
    "\n",
    "2. Diperoleh nilai tengah atau median dari data adalah pada umur 44 tahun "
   ]
  },
  {
   "cell_type": "markdown",
   "metadata": {},
   "source": [
    "Dari data di atas mari kita buat visualisasinya untuk memudahkan kita melihat persebaran atau distribusi dari kolom usia terkait shopping trend customer menggunakan function di bawah ini"
   ]
  },
  {
   "cell_type": "code",
   "execution_count": null,
   "metadata": {},
   "outputs": [
    {
     "data": {
      "image/png": "[encoded data removed]",
      "text/plain": [
       "<Figure size 640x480 with 1 Axes>"
      ]
     },
     "metadata": {},
     "output_type": "display_data"
    }
   ],
   "source": [
    "#Visualisasi Distribusi kolom Age berupa histogram\n",
    "df['Age'].plot(kind='hist', bins=50)\n",
    "plt.title('Distribusi Usia')\n",
    "plt.show()"
   ]
  },
  {
   "cell_type": "markdown",
   "metadata": {},
   "source": [
    "Dari data visualisasi atau histogram distribusi data kolom usia di atas kita bisa mendapatkan insight baru bahwasannya nilai min yang berarti 18 tahun dan max yaitu usia 69 sampai 70 tahun dari kolom Age atau usia melakukan transaksi pembelian paling banyak dibandingkan dengan usia lain yang disusul dengan umur 40-50 tahun yang memiliki pembelian terbanyak pada pola trend shopping masyarakat luar negeri berdasarkan data yang saya analisis. Mari kita lihat detail barang apa yang sering di beli customer berdasarkan tingkatan umur menggunakan function di bawah ini"
   ]
  },
  {
   "cell_type": "code",
   "execution_count": null,
   "metadata": {},
   "outputs": [
    {
     "name": "stdout",
     "output_type": "stream",
     "text": [
      "Total Age Purchased:\n",
      "Age  Category   \n",
      "18   Clothing       33\n",
      "     Accessories    18\n",
      "     Outerwear      10\n",
      "     Footwear        8\n",
      "19   Clothing       36\n",
      "                    ..\n",
      "69   Outerwear       5\n",
      "70   Clothing       26\n",
      "     Accessories    25\n",
      "     Footwear       12\n",
      "     Outerwear       4\n",
      "Name: count, Length: 212, dtype: int64\n"
     ]
    }
   ],
   "source": [
    "# Mellihat produk dari ketegori apa saja yang dibeli setiap umur \n",
    "total_age_purchased = df.groupby('Age')['Category'].value_counts()\n",
    "print(\"Total Age Purchased:\")\n",
    "print(total_age_purchased)"
   ]
  },
  {
   "cell_type": "code",
   "execution_count": null,
   "metadata": {},
   "outputs": [
    {
     "name": "stdout",
     "output_type": "stream",
     "text": [
      "Total Age Purchased:\n",
      "Age  Item_Purchased\n",
      "18   Shirt             6\n",
      "     Jacket            5\n",
      "     Dress             5\n",
      "     Coat              5\n",
      "     Socks             5\n",
      "                      ..\n",
      "70   Jacket            2\n",
      "     Shirt             1\n",
      "     Dress             1\n",
      "     Jeans             1\n",
      "     T-shirt           1\n",
      "Name: count, Length: 1250, dtype: int64\n"
     ]
    }
   ],
   "source": [
    "# Mellihat apakah ada pengulangan pembelian oleh customer\n",
    "total_age_purchased = df.groupby('Age')['Item_Purchased'].value_counts()\n",
    "print(\"Total Age Purchased:\")\n",
    "print(total_age_purchased)"
   ]
  },
  {
   "cell_type": "markdown",
   "metadata": {},
   "source": [
    "Dari data analisis di atas kita mendapatkan beberapa kesimpulan dan bisa menjawab objective ketiga yaitu:\n",
    "1. Kita mendapatkan fakta bahwa modus dari data yang di analisis menunjukkan bahwa usia yang paling banyak melakukan transaksi pembelian adalah pada umur 69 namun dengan menilik data visualisasi atau histogram distribusi data kolom usia kita bisa mendapatkan insight baru bahwasannya nilai min yang berarti 18 tahun dan max yaitu usia 69 sampai 70 tahun dari kolom Age atau usia melakukan transaksi pembelian paling banyak dibandingkan dengan usia lain dan kedua kategori umur tersebut memilik trend shopping ke arah kategori Clothing dan Accesories yang berada pada peringkat 1 dan 2 dari data pembelian terbanyak.\n",
    "\n",
    "2. Kesimpulan data di atas adalah usia muda sekitar 18-19 tahun sangat banyak melakukan transaksi untuk kategori Clothing dengan 5 detail item teratas meliputi\n",
    "    - Shirt sebanyak 6\n",
    "    - Jacket sebanyak 5\n",
    "    - Dress sebanyak 5\n",
    "    - Coat sebanyak 5\n",
    "    - Socks sebanyak 5\n",
    "    \n",
    "    Kesimpulan terakhir adalah usia muda sekitar 69-70 tahun sangat banyak melakukan transaksi untuk kategori Clothing dengan 5 detail item teratas meliputi\n",
    "    - Jacket sebanyak 2\n",
    "    - Shirt sebanyak 1\n",
    "    - Dress sebanyak 1\n",
    "    - Jeans sebanyak 1\n",
    "    - T-shirt sebanyak 1\n",
    "\n",
    "\n",
    "\n",
    "3. Terakhir data analisis membuktikan bahwa usia tidak mempengaruhi trend shopping customer karena semakin usia bertambah atau tua juga tetap melakukan transaksi pembelian sehingga faktor usia tidak mempengaruhi seseorang untuk tetap melakukan shopping"
   ]
  },
  {
   "cell_type": "markdown",
   "metadata": {},
   "source": [
    "# Warna dan Ukuran"
   ]
  },
  {
   "cell_type": "code",
   "execution_count": null,
   "metadata": {},
   "outputs": [
    {
     "data": {
      "text/plain": [
       "Color\n",
       "Olive        177\n",
       "Yellow       174\n",
       "Silver       173\n",
       "Teal         172\n",
       "Green        169\n",
       "Black        167\n",
       "Cyan         166\n",
       "Violet       166\n",
       "Gray         159\n",
       "Maroon       158\n",
       "Orange       154\n",
       "Pink         153\n",
       "Charcoal     153\n",
       "Magenta      152\n",
       "Blue         152\n",
       "Purple       151\n",
       "Peach        149\n",
       "Red          148\n",
       "Beige        147\n",
       "Indigo       147\n",
       "Lavender     147\n",
       "Turquoise    145\n",
       "White        142\n",
       "Brown        141\n",
       "Gold         138\n",
       "Name: count, dtype: Int64"
      ]
     },
     "execution_count": 37,
     "metadata": {},
     "output_type": "execute_result"
    }
   ],
   "source": [
    "#Untuk melihat nilai unik dari warna untuk dibuat visualisasinya\n",
    "df.Color.value_counts()"
   ]
  },
  {
   "cell_type": "code",
   "execution_count": null,
   "metadata": {},
   "outputs": [
    {
     "data": {
      "text/plain": [
       "Color\n",
       "Olive     177\n",
       "Yellow    174\n",
       "Silver    173\n",
       "Teal      172\n",
       "Green     169\n",
       "Name: count, dtype: Int64"
      ]
     },
     "execution_count": 38,
     "metadata": {},
     "output_type": "execute_result"
    }
   ],
   "source": [
    "#Untuk menampilkan warna teratas saja dari kolom Color untu dibuatkan data visualisasinya\n",
    "df.Color.value_counts().head()"
   ]
  },
  {
   "cell_type": "markdown",
   "metadata": {},
   "source": [
    "Pada data di atas kita sudah mendapatkan informasi bahwa trend customer shopping masyarakat luar negeri paling banyak membeli produk dengan warna Olive di peringkat pertama dan diikuti oleh warna Yellow,Silver,Teal, dan Green dari 4 macam kategori Clothing,Accesories,Footwear, dan Outerwear. "
   ]
  },
  {
   "cell_type": "code",
   "execution_count": 54,
   "metadata": {},
   "outputs": [
    {
     "data": {
      "image/png": "[encoded data removed]",
      "text/plain": [
       "<Figure size 640x480 with 1 Axes>"
      ]
     },
     "metadata": {},
     "output_type": "display_data"
    }
   ],
   "source": [
    "# Menulis ada apasaja pada kolom Color dengan menggunakan function value_counts\n",
    "df[\"Color\"].value_counts().sort_values(ascending = True).plot(kind = 'barh', color = sns.color_palette('husl'))\n",
    "\n",
    "# Mensetting Ukuran Teks dan Warna\n",
    "plt.xlabel('\\n Jumlah', weight = \"bold\", color = \"#1565C0\", fontsize = 13, labelpad = -5)\n",
    "plt.ylabel('Color', weight = \"bold\", color = \"#1565C0\", fontsize = 13, labelpad = 10)\n",
    "plt.title('Urutan Warna Paling Sering Dibeli', weight = \"bold\", color = \"#1565C0\", fontsize = 15)\n",
    "\n",
    "# Menampilkan plot\n",
    "plt.xticks(rotation = 0, ha = 'center', fontsize = 12)\n",
    "plt.tight_layout()\n",
    "plt.show()"
   ]
  },
  {
   "cell_type": "markdown",
   "metadata": {},
   "source": [
    "Dari data visualisasi di atas kita mendapatkan informasi bahwa data yang paling laku terjual dari setiap detail produk adalah warna Olive di peringkat pertama dan diikuti oleh warna Yellow,Silver,Teal, dan Green. "
   ]
  },
  {
   "cell_type": "code",
   "execution_count": null,
   "metadata": {},
   "outputs": [
    {
     "data": {
      "text/plain": [
       "Size\n",
       "M     1755\n",
       "L     1053\n",
       "S      663\n",
       "XL     429\n",
       "Name: count, dtype: Int64"
      ]
     },
     "execution_count": 40,
     "metadata": {},
     "output_type": "execute_result"
    }
   ],
   "source": [
    "#Untuk melihat nilai unik pada kolom ukuran atau size\n",
    "df.Size.value_counts()"
   ]
  },
  {
   "cell_type": "code",
   "execution_count": null,
   "metadata": {},
   "outputs": [
    {
     "data": {
      "image/png": "[encoded data removed]",
      "text/plain": [
       "<Figure size 640x480 with 1 Axes>"
      ]
     },
     "metadata": {},
     "output_type": "display_data"
    }
   ],
   "source": [
    "# Menulis ada apasaja pada kolom Gender yaitu male dan female\n",
    "Size = {'Size': ['Medium','Large','Small','Extra Large'],\n",
    "'Jumlah': [1755, 1053,663,429]}\n",
    "\n",
    "# Membuat bar plot menggunakan Seaborn dan mensetting warna,ukuran, dan menampilkan angka\n",
    "ax = sns.barplot(data=Size, x='Size', y='Jumlah', palette= 'Set3')\n",
    "for i in ax.patches:\n",
    "    ax.annotate(int(i.get_height()), (i.get_x() + 0.25, i.get_height() + 1))\n",
    "    ax.tick_params(axis = 'both', labelsize = 12)\n",
    "plt.xlabel('Size', weight = \"bold\", color = \"#1565C0\", fontsize = 13, labelpad = 10)\n",
    "plt.ylabel('Jumlah', weight = \"bold\", color = \"#1565C0\", fontsize = 13, labelpad = 10)\n",
    "plt.title('', weight = \"bold\", color = \"#1565C0\", fontsize = 18)\n",
    "\n",
    "# Menambahkan judul pada plotTotal Transaksi by Gender\n",
    "plt.xlabel('Size')\n",
    "plt.ylabel('Jumlah')\n",
    "plt.title('Ukuran yang Paling Sering Di Beli')\n",
    "\n",
    "# Menampilkan plot\n",
    "plt.show()"
   ]
  },
  {
   "cell_type": "markdown",
   "metadata": {},
   "source": [
    "Dari data diatas kita mendapatkan informasi bahwa trand shopping perihal ukuran yang paling banyak dibeli adalah ukuran Medium(M) dengan jumlah 1755 dan diikuti oleh ukuran Large(L) dengan jumlah 1053, Small(S) sebanyak 663, dan yang terakhir Extra Large(XL) sebanyak 429."
   ]
  },
  {
   "cell_type": "markdown",
   "metadata": {},
   "source": [
    "Untuk memberikan insight objective nomer 5 Dapat disimpulkan dari data di atas trend shopping customer luar negeri lebih menyukai pembelian detail produk warna Olive di peringkat pertama dan diikuti oleh warna Yellow,Silver,Teal, dan Green dengan ukuran Medium(M) dengan jumlah 1755 dan diikuti oleh ukuran Large(L) dengan jumlah 1053, Small(S) sebanyak 663, dan yang terakhir Extra Large(XL) sebanyak 429. Dalam analisis data ini dapat memberikan preferensi bagi para pebisnis di bidang konveksi untuk lebih mempertimbangkan komposisi produksi ukuran dan warna yang menjadi 5 data teratas"
   ]
  },
  {
   "cell_type": "markdown",
   "metadata": {},
   "source": [
    "### Customer Subscription,Promo Code,dan Shipping Type"
   ]
  },
  {
   "cell_type": "markdown",
   "metadata": {},
   "source": [
    "Pada tahapan kali ini mari kita lihat korelasi antara status keanggotaan customer dan penggunaan kode promo terhadap Freeshipping atau gratis ongkir"
   ]
  },
  {
   "cell_type": "code",
   "execution_count": 41,
   "metadata": {},
   "outputs": [
    {
     "data": {
      "text/html": [
       "<div>\n",
       "<style scoped>\n",
       "    .dataframe tbody tr th:only-of-type {\n",
       "        vertical-align: middle;\n",
       "    }\n",
       "\n",
       "    .dataframe tbody tr th {\n",
       "        vertical-align: top;\n",
       "    }\n",
       "\n",
       "    .dataframe thead th {\n",
       "        text-align: right;\n",
       "    }\n",
       "</style>\n",
       "<table border=\"1\" class=\"dataframe\">\n",
       "  <thead>\n",
       "    <tr style=\"text-align: right;\">\n",
       "      <th></th>\n",
       "      <th>Subscription_Status</th>\n",
       "      <th>Promo_Code_Used</th>\n",
       "      <th>Shipping_Type</th>\n",
       "      <th>count</th>\n",
       "    </tr>\n",
       "  </thead>\n",
       "  <tbody>\n",
       "    <tr>\n",
       "      <th>0</th>\n",
       "      <td>No</td>\n",
       "      <td>No</td>\n",
       "      <td>Free Shipping</td>\n",
       "      <td>397</td>\n",
       "    </tr>\n",
       "    <tr>\n",
       "      <th>1</th>\n",
       "      <td>No</td>\n",
       "      <td>No</td>\n",
       "      <td>2-Day Shipping</td>\n",
       "      <td>372</td>\n",
       "    </tr>\n",
       "    <tr>\n",
       "      <th>2</th>\n",
       "      <td>No</td>\n",
       "      <td>No</td>\n",
       "      <td>Standard</td>\n",
       "      <td>369</td>\n",
       "    </tr>\n",
       "    <tr>\n",
       "      <th>3</th>\n",
       "      <td>No</td>\n",
       "      <td>No</td>\n",
       "      <td>Express</td>\n",
       "      <td>367</td>\n",
       "    </tr>\n",
       "    <tr>\n",
       "      <th>4</th>\n",
       "      <td>No</td>\n",
       "      <td>No</td>\n",
       "      <td>Store Pickup</td>\n",
       "      <td>365</td>\n",
       "    </tr>\n",
       "    <tr>\n",
       "      <th>5</th>\n",
       "      <td>No</td>\n",
       "      <td>No</td>\n",
       "      <td>Next Day Air</td>\n",
       "      <td>353</td>\n",
       "    </tr>\n",
       "    <tr>\n",
       "      <th>6</th>\n",
       "      <td>No</td>\n",
       "      <td>Yes</td>\n",
       "      <td>Next Day Air</td>\n",
       "      <td>127</td>\n",
       "    </tr>\n",
       "    <tr>\n",
       "      <th>7</th>\n",
       "      <td>No</td>\n",
       "      <td>Yes</td>\n",
       "      <td>Standard</td>\n",
       "      <td>110</td>\n",
       "    </tr>\n",
       "    <tr>\n",
       "      <th>8</th>\n",
       "      <td>No</td>\n",
       "      <td>Yes</td>\n",
       "      <td>2-Day Shipping</td>\n",
       "      <td>102</td>\n",
       "    </tr>\n",
       "    <tr>\n",
       "      <th>9</th>\n",
       "      <td>No</td>\n",
       "      <td>Yes</td>\n",
       "      <td>Free Shipping</td>\n",
       "      <td>101</td>\n",
       "    </tr>\n",
       "    <tr>\n",
       "      <th>10</th>\n",
       "      <td>No</td>\n",
       "      <td>Yes</td>\n",
       "      <td>Store Pickup</td>\n",
       "      <td>95</td>\n",
       "    </tr>\n",
       "    <tr>\n",
       "      <th>11</th>\n",
       "      <td>No</td>\n",
       "      <td>Yes</td>\n",
       "      <td>Express</td>\n",
       "      <td>89</td>\n",
       "    </tr>\n",
       "    <tr>\n",
       "      <th>12</th>\n",
       "      <td>Yes</td>\n",
       "      <td>Yes</td>\n",
       "      <td>Express</td>\n",
       "      <td>190</td>\n",
       "    </tr>\n",
       "    <tr>\n",
       "      <th>13</th>\n",
       "      <td>Yes</td>\n",
       "      <td>Yes</td>\n",
       "      <td>Store Pickup</td>\n",
       "      <td>190</td>\n",
       "    </tr>\n",
       "    <tr>\n",
       "      <th>14</th>\n",
       "      <td>Yes</td>\n",
       "      <td>Yes</td>\n",
       "      <td>Free Shipping</td>\n",
       "      <td>177</td>\n",
       "    </tr>\n",
       "    <tr>\n",
       "      <th>15</th>\n",
       "      <td>Yes</td>\n",
       "      <td>Yes</td>\n",
       "      <td>Standard</td>\n",
       "      <td>175</td>\n",
       "    </tr>\n",
       "    <tr>\n",
       "      <th>16</th>\n",
       "      <td>Yes</td>\n",
       "      <td>Yes</td>\n",
       "      <td>Next Day Air</td>\n",
       "      <td>168</td>\n",
       "    </tr>\n",
       "    <tr>\n",
       "      <th>17</th>\n",
       "      <td>Yes</td>\n",
       "      <td>Yes</td>\n",
       "      <td>2-Day Shipping</td>\n",
       "      <td>153</td>\n",
       "    </tr>\n",
       "  </tbody>\n",
       "</table>\n",
       "</div>"
      ],
      "text/plain": [
       "   Subscription_Status Promo_Code_Used   Shipping_Type  count\n",
       "0                   No              No   Free Shipping    397\n",
       "1                   No              No  2-Day Shipping    372\n",
       "2                   No              No        Standard    369\n",
       "3                   No              No         Express    367\n",
       "4                   No              No    Store Pickup    365\n",
       "5                   No              No    Next Day Air    353\n",
       "6                   No             Yes    Next Day Air    127\n",
       "7                   No             Yes        Standard    110\n",
       "8                   No             Yes  2-Day Shipping    102\n",
       "9                   No             Yes   Free Shipping    101\n",
       "10                  No             Yes    Store Pickup     95\n",
       "11                  No             Yes         Express     89\n",
       "12                 Yes             Yes         Express    190\n",
       "13                 Yes             Yes    Store Pickup    190\n",
       "14                 Yes             Yes   Free Shipping    177\n",
       "15                 Yes             Yes        Standard    175\n",
       "16                 Yes             Yes    Next Day Air    168\n",
       "17                 Yes             Yes  2-Day Shipping    153"
      ]
     },
     "execution_count": 41,
     "metadata": {},
     "output_type": "execute_result"
    }
   ],
   "source": [
    "#Untuk melihat hubungan atau korelasi antara customer Subscription_Status,Promo_Code_Used dengan Shipping_Type\n",
    "df.groupby(['Subscription_Status','Promo_Code_Used'])['Shipping_Type'].value_counts().reset_index()"
   ]
  },
  {
   "cell_type": "markdown",
   "metadata": {},
   "source": [
    "Dari data di atas kita dapat mengambil kesimpulan untuk memberikan insight kepada objective nomer 5 yaitu:\n",
    "1. Subscription Status\n",
    "- Sebagian besar pelanggan yang terdapat pada data tidak berlangganan karena mayoritas pada data di atas 'subscription_status' menunjukkan 'No' yang berarti tidak\n",
    "\n",
    "2. Promo Code\n",
    "- Jumlah transaksi yang menggunakan kode promo relatif lebih rendah dibandingkan tidak menggunakan kode promo perbandingan ini bisa dilihat dari tabel nomer 5 dan 6, untuk nomer 5 kode promo tidak dipakai namun tercatat ada 353 transaksi sedangkan nomer 6 kode promo dipakai tercatat hanya 127 transaksi \n",
    "\n",
    "3. Shipping Type\n",
    "- Freeshipping menjadi pilihan alternatif utama bagi para customer diikuti oleh peringkat kedua dan ketiga yaitu 2-Day Shipping dan Standard\n",
    "\n",
    "4. Korelasi Subscription Type dengan Promo Code\n",
    "- Kebanyakan customer yang tidak berlangganan tidak menggunakan promo code \n",
    "- pada customer yang sudah berlangganan ada variasi dalam penggunaan promo namun sebagian besar masih tidak menggunakan kode promo\n",
    "\n",
    "5. Korelasi Subscription Type dengan Shipping Type\n",
    "- Sebagian besar customer yang tidak berlangganan memilih freeshipping sebagai jasa pengiriman barang\n",
    "- sedangkan customer yang berlangganan memiliki variasi pemilihan jasa pengiriman\n",
    "\n",
    "6. 5 poin diatas adalah kesimpulan dan insight dari objective nomer 5 yang outputnya apabila diperhatikan oleh para pebisnis dalam memahami pola preferensi pelanggan yang nantinya dapat digunakan sebagai pengambilan keputusan dalam strategi pemasaran, penyesuaian layanan, atau pengelolaan persediaan"
   ]
  },
  {
   "cell_type": "markdown",
   "metadata": {},
   "source": [
    "### Statistik Inferential"
   ]
  },
  {
   "cell_type": "markdown",
   "metadata": {},
   "source": [
    "Pada tahapan ini kita akan mencari apakah ada perbedaan yang signifikan antara Usia yang memiliki status berlangganan dengan usia yang tidak memiliki status berlangganan untuk sebuah trend shopping yang berkembang di masyarakat luar negeri"
   ]
  },
  {
   "cell_type": "code",
   "execution_count": 50,
   "metadata": {},
   "outputs": [
    {
     "name": "stdout",
     "output_type": "stream",
     "text": [
      "Average Age Subscribe: 44.23\n",
      "Average Age Not Subscribe: 44.01\n"
     ]
    }
   ],
   "source": [
    "#Menghitung rata-rata antara umur yang berlangganan dan tidak berlangganan untuk di cari statistik inferensialnya menggunakan metode Anova\n",
    "\n",
    "Subscribed = df['Age'][(df['Subscription_Status']=='Yes') | (df['Subscription_Status']=='Yes')]\n",
    "Not_Subscribed = df['Age'][(df['Subscription_Status']=='No') | (df['Subscription_Status']=='No')]\n",
    "\n",
    "print(f'Average Age Subscribe: {Subscribed.mean():.2f}')\n",
    "print(f'Average Age Not Subscribe: {Not_Subscribed.mean():.2f}')\n"
   ]
  },
  {
   "cell_type": "markdown",
   "metadata": {},
   "source": [
    "Dari data di atas mari kita tentukan variabel H0 dan H1 untuk mengetes apakah ada perbedaan signifikan antara kedua kolom tersebut kolom 'Age' dan 'Subscription_Status' dengan salah satu metode mencari statistik inferential yang disebut 'ANOVA'"
   ]
  },
  {
   "cell_type": "markdown",
   "metadata": {},
   "source": [
    "H0: Tidak ada perbedaan yang signifikan antara usia yang memiliki status berlangganan dan tidak berlangganan\n",
    "\n",
    "H1: Ada perbedaan yang signifikan antara usia yang berstatus berlanggan dan yang tidak berlangganan"
   ]
  },
  {
   "cell_type": "code",
   "execution_count": 51,
   "metadata": {},
   "outputs": [
    {
     "name": "stdout",
     "output_type": "stream",
     "text": [
      "P-value: 0.6852735321520766\n"
     ]
    }
   ],
   "source": [
    "res = stats.f_oneway(Subscribed, Not_Subscribed)\n",
    "print('P-value:',res.pvalue)"
   ]
  },
  {
   "cell_type": "markdown",
   "metadata": {},
   "source": [
    "Dikarenakan P-value melebihi 0,05 maka H0 diterima sehingga menghasilkan kesimpulan tidak ada perbedaan yang signifikan antara usia yang memiliki status berlangganan dan tidak berlangganan\n"
   ]
  },
  {
   "cell_type": "markdown",
   "metadata": {},
   "source": [
    "## Rating"
   ]
  },
  {
   "cell_type": "code",
   "execution_count": null,
   "metadata": {},
   "outputs": [
    {
     "data": {
      "text/plain": [
       "Review_Rating\n",
       "3.4    182\n",
       "4.0    181\n",
       "4.6    174\n",
       "4.2    171\n",
       "2.9    170\n",
       "4.9    166\n",
       "3.9    163\n",
       "3.0    162\n",
       "2.6    159\n",
       "4.4    158\n",
       "3.1    157\n",
       "3.7    156\n",
       "3.5    156\n",
       "2.7    154\n",
       "3.3    152\n",
       "3.2    152\n",
       "3.6    149\n",
       "4.7    148\n",
       "4.1    148\n",
       "4.3    147\n",
       "4.8    144\n",
       "3.8    142\n",
       "4.5    139\n",
       "2.8    136\n",
       "5.0     68\n",
       "2.5     66\n",
       "Name: count, dtype: int64"
      ]
     },
     "execution_count": 43,
     "metadata": {},
     "output_type": "execute_result"
    }
   ],
   "source": [
    "# Untuk menghitung nilai unik kolom rating untuk dibuat visualisasinya\n",
    "df.Review_Rating.value_counts()"
   ]
  },
  {
   "cell_type": "code",
   "execution_count": null,
   "metadata": {},
   "outputs": [
    {
     "data": {
      "text/html": [
       "<div>\n",
       "<style scoped>\n",
       "    .dataframe tbody tr th:only-of-type {\n",
       "        vertical-align: middle;\n",
       "    }\n",
       "\n",
       "    .dataframe tbody tr th {\n",
       "        vertical-align: top;\n",
       "    }\n",
       "\n",
       "    .dataframe thead th {\n",
       "        text-align: right;\n",
       "    }\n",
       "</style>\n",
       "<table border=\"1\" class=\"dataframe\">\n",
       "  <thead>\n",
       "    <tr style=\"text-align: right;\">\n",
       "      <th></th>\n",
       "      <th>Gender</th>\n",
       "      <th>Category</th>\n",
       "      <th>Review_Rating</th>\n",
       "    </tr>\n",
       "  </thead>\n",
       "  <tbody>\n",
       "    <tr>\n",
       "      <th>0</th>\n",
       "      <td>Female</td>\n",
       "      <td>Accessories</td>\n",
       "      <td>3.755612</td>\n",
       "    </tr>\n",
       "    <tr>\n",
       "      <th>1</th>\n",
       "      <td>Female</td>\n",
       "      <td>Clothing</td>\n",
       "      <td>3.704496</td>\n",
       "    </tr>\n",
       "    <tr>\n",
       "      <th>2</th>\n",
       "      <td>Female</td>\n",
       "      <td>Footwear</td>\n",
       "      <td>3.822111</td>\n",
       "    </tr>\n",
       "    <tr>\n",
       "      <th>3</th>\n",
       "      <td>Female</td>\n",
       "      <td>Outerwear</td>\n",
       "      <td>3.730693</td>\n",
       "    </tr>\n",
       "    <tr>\n",
       "      <th>4</th>\n",
       "      <td>Male</td>\n",
       "      <td>Accessories</td>\n",
       "      <td>3.774646</td>\n",
       "    </tr>\n",
       "    <tr>\n",
       "      <th>5</th>\n",
       "      <td>Male</td>\n",
       "      <td>Clothing</td>\n",
       "      <td>3.731922</td>\n",
       "    </tr>\n",
       "    <tr>\n",
       "      <th>6</th>\n",
       "      <td>Male</td>\n",
       "      <td>Footwear</td>\n",
       "      <td>3.775000</td>\n",
       "    </tr>\n",
       "    <tr>\n",
       "      <th>7</th>\n",
       "      <td>Male</td>\n",
       "      <td>Outerwear</td>\n",
       "      <td>3.754260</td>\n",
       "    </tr>\n",
       "  </tbody>\n",
       "</table>\n",
       "</div>"
      ],
      "text/plain": [
       "   Gender     Category  Review_Rating\n",
       "0  Female  Accessories       3.755612\n",
       "1  Female     Clothing       3.704496\n",
       "2  Female     Footwear       3.822111\n",
       "3  Female    Outerwear       3.730693\n",
       "4    Male  Accessories       3.774646\n",
       "5    Male     Clothing       3.731922\n",
       "6    Male     Footwear       3.775000\n",
       "7    Male    Outerwear       3.754260"
      ]
     },
     "execution_count": 56,
     "metadata": {},
     "output_type": "execute_result"
    }
   ],
   "source": [
    "#Untuk melihat rating yang diberikan pria maupun wanita pada kategory produk\n",
    "df.groupby(['Gender','Category'])['Review_Rating'].mean().reset_index()"
   ]
  },
  {
   "cell_type": "markdown",
   "metadata": {},
   "source": [
    "Dari data di atas kita dapat memberikan insight terhadap objective nomer 6 yaitu rating paling tinggi yang diberikan para customer adalah sebanyak 3,4% yang diartikan arah pemberian rating tidak bergerak terlalu positif karena masih jauh dari angkat 5 sebagai acuan rating sempurna atau kepuasan. Dari data rating oleh gender pada setiap kategori produk memberikan insight kepada para pebisnis untuk memperbaiki rating yang rendah untuk meningkatkan pembelian pada salah satu kategori produk. Hal ini dapat didukung oleh korelasi antara kolom 'Previous_Purchases' dan 'Review_Rating'dimana ketika rating produk bagus maka customer akan kembali membeli barang atau produk tersebut"
   ]
  },
  {
   "cell_type": "markdown",
   "metadata": {},
   "source": [
    "### Statistik Deskriptif"
   ]
  },
  {
   "cell_type": "code",
   "execution_count": null,
   "metadata": {},
   "outputs": [
    {
     "name": "stdout",
     "output_type": "stream",
     "text": [
      "r-correlation: 0.00, p-value: 0.791761660185139\n"
     ]
    }
   ],
   "source": [
    "#Untuk membuktikan korelasi antara Previous_Purchases' dan 'Review_Rating'\n",
    "corr_r, pval_p = stats.pearsonr(df['Previous_Purchases'], df['Review_Rating'])\n",
    "print(f\"r-correlation: {corr_r:.2f}, p-value: {pval_p}\")"
   ]
  },
  {
   "cell_type": "markdown",
   "metadata": {},
   "source": [
    "Dikarenakan P Value lebih besar daripada 0,05 maka hubungan antara 2 variabel adalah benar sehingga saling keterkaitan sehingga ketika rating produk bagus maka customer akan kembali membeli barang atau produk tersebut"
   ]
  }
 ],
 "metadata": {
  "kernelspec": {
   "display_name": "base",
   "language": "python",
   "name": "python3"
  },
  "language_info": {
   "codemirror_mode": {
    "name": "ipython",
    "version": 3
   },
   "file_extension": ".py",
   "mimetype": "text/x-python",
   "name": "python",
   "nbconvert_exporter": "python",
   "pygments_lexer": "ipython3",
   "version": "3.11.5"
  }
 },
 "nbformat": 4,
 "nbformat_minor": 2
}
